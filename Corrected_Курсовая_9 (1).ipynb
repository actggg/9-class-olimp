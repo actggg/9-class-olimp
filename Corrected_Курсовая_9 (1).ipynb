{
  "nbformat": 4,
  "nbformat_minor": 0,
  "metadata": {
    "colab": {
      "provenance": [],
      "toc_visible": true
    },
    "kernelspec": {
      "name": "python3",
      "display_name": "Python 3"
    },
    "language_info": {
      "name": "python"
    }
  },
  "cells": [
    {
      "cell_type": "markdown",
      "source": [
        "Импорт блок"
      ],
      "metadata": {
        "id": "b5IIeGvBnM06"
      }
    },
    {
      "cell_type": "code",
      "source": [
        "#Импорт библиотек\n",
        "import pandas as pd\n",
        "import nltk\n",
        "import re\n",
        "import pickle\n",
        "import matplotlib.pyplot as plt\n",
        "import numpy as np\n",
        "\n",
        "from nltk.corpus import stopwords\n",
        "\n",
        "from sklearn.feature_extraction.text import TfidfVectorizer\n",
        "from sklearn.model_selection import train_test_split\n",
        "from sklearn import metrics\n",
        "from sklearn.naive_bayes import GaussianNB\n",
        "from sklearn.linear_model import LogisticRegression\n",
        "from sklearn import svm\n",
        "from sklearn.tree import DecisionTreeClassifier\n",
        "from sklearn.model_selection import train_test_split\n",
        "from sklearn.ensemble import AdaBoostClassifier\n",
        "from sklearn.model_selection import train_test_split\n",
        "from sklearn.ensemble import GradientBoostingClassifier\n",
        "from sklearn.metrics import confusion_matrix\n",
        "from sklearn.metrics import classification_report\n",
        "\n",
        "from keras import models\n",
        "from keras import layers\n",
        "from keras.optimizers import Adam\n",
        "from keras import optimizers\n",
        "\n",
        "from tensorflow.keras.models import Sequential\n",
        "from tensorflow.keras.layers import Dense"
      ],
      "metadata": {
        "id": "BPj3ydT0nLpx"
      },
      "execution_count": null,
      "outputs": []
    },
    {
      "cell_type": "markdown",
      "source": [
        "# Новый раздел"
      ],
      "metadata": {
        "id": "B9pXt284aLtb"
      }
    },
    {
      "cell_type": "code",
      "source": [
        "data_from_internet = pd.read_csv('database.csv', engine='python')\n",
        "data_from_internet[data_from_internet[\"class\"] == 6].iloc[0][\"content\"]"
      ],
      "metadata": {
        "id": "2SScPy-8S-3y",
        "outputId": "6642e171-8066-4ce8-f6ee-a4a2035db539",
        "colab": {
          "base_uri": "https://localhost:8080/",
          "height": 122
        }
      },
      "execution_count": null,
      "outputs": [
        {
          "output_type": "execute_result",
          "data": {
            "text/plain": [
              "'As soon as he learned about the existence of ancient wheat specimens at University College London’s Petrie Museum of Egyptian Archaeology from a 2018 BBC documentary, Richard Mott of the UCL Genetics Institute wanted to study them. The samples likely contained bits of ancient wheat DNA, he reasoned, which could yield valuable insights into the history of cultivation of this all-important crop species.\\n\\nArchaeobotanists at UCL helped Mott and a team of collaborators choose a handful of well-preserved husks from the museum’s collection of ancient emmer wheat, a variety native to the Near East and one of the first crops to be domesticated in the region, from which the researchers selected two husks for DNA extraction. After carefully removing the husks from the box, photographing them, and wrapping them in foil, the scientists transported the centuries-old plant material to a freshly bleached cleanroom used exclusively to process ancient and forensic samples. \\nThere, team member Laura Botigué, a population geneticist and visiting researcher from the Centre for Research in Agricultural Genomics (CRAG) in Barcelona, Spain, donned a hairnet, two Tyvek suits, two pairs of latex gloves, and a mask—part of a protocol designed to avoid contaminating the samples with her own cells. Uncertain how the delicate husks would hold up to the standard decontamination protocol of bleaching the samples, Botigué bleached one and left the second untouched. Then, to lyse the plant’s cells, she put the samples in a rotator that gently shook the husks inside an oven over the next several days. Finally, she used a centrifugation protocol to separate any DNA from the degraded cell walls and proteins.\\n\\nOnce the samples had been prepped and delivered to the UCL Genomics facility for sequencing, it was a waiting game to see if the procedure had yielded any readable wheat DNA. “This is the more stressful part,” Botigué says. Because they lack the type of protective collagen matrix found in bones, plants don’t preserve ancient DNA as well as animals. “You finish, the DNA is theoretically extracted, but you don’t see it in the tube,” says Botigué. “You’re in the blind until you hear back from the sequencing services.” \\n\\nWithin just a few weeks, the team got good news. For the husk that Botigué had bleached, about two-thirds of the reads aligned with genomes of modern wild and domesticated emmer wheat varieties—a relatively good success rate for ancient DNA, according to evolutionary geneticist Michael Scott, a postdoc in Mott’s lab who conducted the bioinformatics analysis of the sequences. “The first surprise was how well it worked,” he says. “It appears that the dry conditions in Egypt were good for DNA preservation.” The unbleached husk had yielded a smaller quantity of sequences, but those fragments mostly matched the ones in the bleached sample, validating the identity of those sequences as coming from the ancient wheat samples rather than from contaminants.\\n\\nThe museum wheat, which carbon dating showed was from between 1130 and 1000 BC, was genetically much more similar to modern domesticated varieties than to modern wild ones, suggesting that the plant lineage the samples came from had already been domesticated. Specifically, the sequences most resembled those of modern domesticated strains grown in Turkey, Oman, and India. There was also evidence for genetic exchange between the museum wheat strain and the wild emmer wheat that grew in the Levant, a large region in the Eastern Mediterranean that was a center of agricultural development in the Neolithic period, and where emmer was first cultivated. The genetic exchange could have occurred before the wheat’s introduction to Egypt from the Levant, says Scott. Alternatively, it’s possible that the ancient Egyptians’ wheat was able to interbreed with wild wheat in the Southern Levant thanks to interactions between the people in the two regions. \\nThe bioinformatics analysis also uncovered some genetic variants in the ancient samples that weren’t found in any of the modern emmer wheat genomes the researchers studied. If these variants helped the wheat survive in arid locations around the Near East, perhaps introducing those sequences into modern varieties could help make them more sustainable or more drought resistant, Scott says, though he admits that this “is very much just an idea.” \\n\\nThe detection of ancient genetic variation is a notable achievement because wheat genomes are large—three to five times the length of a human genome—and repetitive, making the “analysis . . . incredibly complex,” says James Breen, head of the bioinformatics core at the South Australian Health and Medical Research Institute who reviewed the study and coauthored the perspective with Rabanus-Wallace, a PhD student in his lab at the Australian Centre for Ancient DNA at the time. “So being able to find unique pieces of DNA in that genome is very difficult.” He adds that after a couple of additional validation tests performed by the UCL team, he was convinced that “the data that came out was legitimately ancient.”\\n\\nBotigué and Scott emphasize that the study is primarily a proof of concept that museum-kept plant samples can yield readable genetic material. “We were able to look at DNA from specimens that had been stored in the museum for over 90 years without special preservation conditions—the museum was actually even bombed and flooded during wartime,” says Scott. “We think our study helps demonstrate the importance of museum collections as sources of genetic data, which”—in combination with new samples—“can be used to uncover the history of selection on crops and their movement around the globe.” \\n\\n'"
            ],
            "application/vnd.google.colaboratory.intrinsic+json": {
              "type": "string"
            }
          },
          "metadata": {},
          "execution_count": 17
        }
      ]
    },
    {
      "cell_type": "code",
      "source": [
        "nltk.download(\"stopwords\") #Удаление стоп-слов\n",
        "nltk.download('punkt') #Деление текста на список предложений\n",
        "nltk.download('wordnet') #Проведение лемматизации\n",
        "nltk.download('omw-1.4')"
      ],
      "metadata": {
        "colab": {
          "base_uri": "https://localhost:8080/"
        },
        "id": "DNLpJUXTTElD",
        "outputId": "d59ed0e6-99d9-4839-8eed-e98494e286cf"
      },
      "execution_count": null,
      "outputs": [
        {
          "output_type": "stream",
          "name": "stderr",
          "text": [
            "[nltk_data] Downloading package stopwords to /root/nltk_data...\n",
            "[nltk_data]   Package stopwords is already up-to-date!\n",
            "[nltk_data] Downloading package punkt to /root/nltk_data...\n",
            "[nltk_data]   Package punkt is already up-to-date!\n",
            "[nltk_data] Downloading package wordnet to /root/nltk_data...\n",
            "[nltk_data]   Package wordnet is already up-to-date!\n",
            "[nltk_data] Downloading package omw-1.4 to /root/nltk_data...\n",
            "[nltk_data]   Package omw-1.4 is already up-to-date!\n"
          ]
        },
        {
          "output_type": "execute_result",
          "data": {
            "text/plain": [
              "True"
            ]
          },
          "metadata": {},
          "execution_count": 18
        }
      ]
    },
    {
      "cell_type": "code",
      "source": [
        "def lemmatize_text(in_text):\n",
        "    out_text = re.sub(\"[^a-zA-Z]\",\" \",in_text) #Удаление неалфавитных символов  \n",
        "    #text = nltk.word_tokenize(text,language = \"english\") #Токенизация слов\n",
        "    out_text = [lemmatize.lemmatize(word) for word in out_text] #Лемматизация слов  \n",
        "    out_text = \"\".join(out_text) #Соединение слов\n",
        "    return out_text\n"
      ],
      "metadata": {
        "id": "xi9NOgc6RFAP"
      },
      "execution_count": null,
      "outputs": []
    },
    {
      "cell_type": "code",
      "source": [
        "new_text = []\n",
        "lemmatize = nltk.WordNetLemmatizer()\n",
        "for i in data_from_internet[\"content\"]:\n",
        "  new_text.append(lemmatize_text(i))"
      ],
      "metadata": {
        "id": "3qwKRHnMSIVd"
      },
      "execution_count": null,
      "outputs": []
    },
    {
      "cell_type": "code",
      "source": [
        "tfidf_vectorizer = TfidfVectorizer(stop_words=\"english\", min_df=0.01, max_df=0.9  ) \n",
        "tfidf_vectorizer = tfidf_vectorizer.fit(new_text)\n",
        "values = tfidf_vectorizer.transform(new_text) #Преобразование текста\n",
        "values.shape"
      ],
      "metadata": {
        "id": "mEKZSiKLTooW",
        "colab": {
          "base_uri": "https://localhost:8080/"
        },
        "outputId": "46271796-333f-4bf4-9cfa-f40abf5d3c5b"
      },
      "execution_count": null,
      "outputs": [
        {
          "output_type": "execute_result",
          "data": {
            "text/plain": [
              "(1000, 3281)"
            ]
          },
          "metadata": {},
          "execution_count": 21
        }
      ]
    },
    {
      "cell_type": "code",
      "source": [
        "tfidf_vectorizer.get_feature_names()[:10]"
      ],
      "metadata": {
        "colab": {
          "base_uri": "https://localhost:8080/"
        },
        "id": "GbU7dIrOP-tk",
        "outputId": "af67e05b-afc6-4583-be03-8c3a31ccd671"
      },
      "execution_count": null,
      "outputs": [
        {
          "output_type": "stream",
          "name": "stderr",
          "text": [
            "/usr/local/lib/python3.8/dist-packages/sklearn/utils/deprecation.py:87: FutureWarning: Function get_feature_names is deprecated; get_feature_names is deprecated in 1.0 and will be removed in 1.2. Please use get_feature_names_out instead.\n",
            "  warnings.warn(msg, category=FutureWarning)\n"
          ]
        },
        {
          "output_type": "execute_result",
          "data": {
            "text/plain": [
              "['abandoned',\n",
              " 'ability',\n",
              " 'able',\n",
              " 'abroad',\n",
              " 'absence',\n",
              " 'absolutely',\n",
              " 'abuse',\n",
              " 'ac',\n",
              " 'academy',\n",
              " 'accept']"
            ]
          },
          "metadata": {},
          "execution_count": 22
        }
      ]
    },
    {
      "cell_type": "code",
      "source": [
        "#Сохранение векторизатора TFIDF в файл\n",
        "pkl_filename_tfidf = \"Pickle_RL_Model_tfidf.pkl\"  \n",
        "\n",
        "with open(pkl_filename_tfidf, 'wb') as file:  \n",
        "    pickle.dump(tfidf_vectorizer, file)"
      ],
      "metadata": {
        "id": "3B2IxlNur-ZB"
      },
      "execution_count": null,
      "outputs": []
    },
    {
      "cell_type": "code",
      "source": [
        "X = values.toarray()\n",
        "y = data_from_internet[\"class\"].values\n",
        "x_train, x_test, y_train, y_test = train_test_split(X, y, test_size = 0.33, random_state = 42) #Разделение выборки на тестовую и обучающую"
      ],
      "metadata": {
        "id": "CWMWbTGwTtMJ"
      },
      "execution_count": null,
      "outputs": []
    },
    {
      "cell_type": "code",
      "source": [
        "nb = GaussianNB()\n",
        "nb = nb.fit(x_train, y_train)\n",
        "predicted_bayes = nb.predict(x_test)\n",
        "print(metrics.classification_report(predicted_bayes, y_test))\n",
        "nb.score(x_test,y_test)"
      ],
      "metadata": {
        "id": "MZy1NXCnTuVj",
        "colab": {
          "base_uri": "https://localhost:8080/"
        },
        "outputId": "3888d9a0-11e1-44d7-f8fa-13ce94e6029d"
      },
      "execution_count": null,
      "outputs": [
        {
          "output_type": "stream",
          "name": "stdout",
          "text": [
            "              precision    recall  f1-score   support\n",
            "\n",
            "           1       0.72      0.93      0.81        28\n",
            "           2       0.82      0.75      0.78        24\n",
            "           3       0.87      0.84      0.86        32\n",
            "           4       0.75      0.94      0.83        32\n",
            "           5       0.74      0.97      0.84        29\n",
            "           6       1.00      0.77      0.87        39\n",
            "           7       0.82      0.97      0.89        33\n",
            "           8       0.82      0.56      0.67        41\n",
            "           9       0.83      1.00      0.91        24\n",
            "          10       0.92      0.71      0.80        48\n",
            "\n",
            "    accuracy                           0.82       330\n",
            "   macro avg       0.83      0.84      0.83       330\n",
            "weighted avg       0.84      0.82      0.82       330\n",
            "\n"
          ]
        },
        {
          "output_type": "execute_result",
          "data": {
            "text/plain": [
              "0.8242424242424242"
            ]
          },
          "metadata": {},
          "execution_count": 25
        }
      ]
    },
    {
      "cell_type": "markdown",
      "source": [
        "Загрузим векторизатор (этот код будет в приложении!!!)"
      ],
      "metadata": {
        "id": "Nvde6jmBtBcV"
      }
    },
    {
      "cell_type": "code",
      "source": [
        "with open(pkl_filename_tfidf, 'rb') as file:  \n",
        "    pickled_tfidf_vectorizer = pickle.load(file)"
      ],
      "metadata": {
        "id": "YWMLzSC8s_tb"
      },
      "execution_count": null,
      "outputs": []
    },
    {
      "cell_type": "markdown",
      "source": [
        "### Сохраним модель Наивный байесовский классификатор "
      ],
      "metadata": {
        "id": "f_bVwikCr1-l"
      }
    },
    {
      "cell_type": "code",
      "source": [
        "#Сохранение модели в файл\n",
        "pkl_filename_nb = \"Pickle_RL_Model_nb.pkl\"  \n",
        "\n",
        "with open(pkl_filename_nb, 'wb') as file:  \n",
        "    pickle.dump(nb, file)"
      ],
      "metadata": {
        "id": "aEA8v9bFrvj_"
      },
      "execution_count": null,
      "outputs": []
    },
    {
      "cell_type": "markdown",
      "source": [
        "### Загрузка модели из файл + предсканием"
      ],
      "metadata": {
        "id": "FAjQXw8msELt"
      }
    },
    {
      "cell_type": "code",
      "source": [
        "#Загрузка из файла \n",
        "with open(pkl_filename_nb, 'rb') as file:  \n",
        "    pickled_nb_model = pickle.load(file)"
      ],
      "metadata": {
        "id": "XUzlC3c9sDuh"
      },
      "execution_count": null,
      "outputs": []
    },
    {
      "cell_type": "markdown",
      "source": [
        "### Векторизуем тексты (полученные из интерфейса), для которых хотим предсказать. \n",
        "Будем исползовать загруженный из файла векторизатор (этот код для приложения!!!)\n"
      ],
      "metadata": {
        "id": "1p4pS_FgjCHi"
      }
    },
    {
      "cell_type": "code",
      "source": [
        "list_text =[]\n",
        "for num_f in range(3):\n",
        "  file_name = f\"f6_0{str(num_f)}.txt\"\n",
        "  with open(file_name) as f:\n",
        "    t = f.read()\n",
        "    list_text.append(t)\n",
        "\n",
        "texts_for_predict = list_text + [\"Education is about learning skills and knowledge. It also means helping people to learn how to do things and support them to think about what they learn. It's also important for educators to teach ways to find and use information. Education needs research to find out how to make it better\", \n",
        "            \"Education may help and guide individuals from one class to other. Educated individuals and groups can do things like, help less educated people and encourage them to get educated.\"]\n",
        "\n",
        "test_text = [lemmatize_text(text) for text in texts_for_predict] #Предподготовка\n",
        "\n",
        "X_test_vector = pickled_tfidf_vectorizer.transform(test_text) #Векторизация нового текста\n",
        "X_test_vector.shape"
      ],
      "metadata": {
        "colab": {
          "base_uri": "https://localhost:8080/"
        },
        "id": "aLF0iKyljAKI",
        "outputId": "b484803e-77ae-45ba-ab4c-1d024617fde3"
      },
      "execution_count": null,
      "outputs": [
        {
          "output_type": "execute_result",
          "data": {
            "text/plain": [
              "(5, 3281)"
            ]
          },
          "metadata": {},
          "execution_count": 29
        }
      ]
    },
    {
      "cell_type": "markdown",
      "source": [
        "### Предсказываем, используя Наивный байесовский классификатор, загруженный из файла \n",
        "Код для приложения!!!"
      ],
      "metadata": {
        "id": "v_s4QdJpjz_S"
      }
    },
    {
      "cell_type": "code",
      "source": [
        "with open(pkl_filename_nb, 'rb') as file:  \n",
        "    pickled_nb_model = pickle.load(file)"
      ],
      "metadata": {
        "id": "pzIFdyYgt2Nx"
      },
      "execution_count": null,
      "outputs": []
    },
    {
      "cell_type": "code",
      "source": [
        "#Вероятность\n",
        "Y_test_pred=pickled_nb_model.predict(X_test_vector.toarray())\n",
        "for result in Y_test_pred:\n",
        "  print(f\"Вероятность для всех классов: {result}\")\n",
        "\n",
        "#Задаем порог 0.5 для классификации текста\n",
        "Y_test_pred_int=(Y_test_pred>=0.5).astype(\"int\")\n",
        "\n",
        "for result in Y_test_pred_int:\n",
        "  print(f\"Результаты классификации для каждого класса (порог 0.5): {result}\")"
      ],
      "metadata": {
        "colab": {
          "base_uri": "https://localhost:8080/"
        },
        "id": "odWC3CdajBHv",
        "outputId": "eef21834-5d00-4591-f1f2-5f59c89dee96"
      },
      "execution_count": null,
      "outputs": [
        {
          "output_type": "stream",
          "name": "stdout",
          "text": [
            "Вероятность для всех классов: 6\n",
            "Вероятность для всех классов: 6\n",
            "Вероятность для всех классов: 6\n",
            "Вероятность для всех классов: 10\n",
            "Вероятность для всех классов: 10\n",
            "Результаты классификации для каждого класса (порог 0.5): 1\n",
            "Результаты классификации для каждого класса (порог 0.5): 1\n",
            "Результаты классификации для каждого класса (порог 0.5): 1\n",
            "Результаты классификации для каждого класса (порог 0.5): 1\n",
            "Результаты классификации для каждого класса (порог 0.5): 1\n"
          ]
        }
      ]
    },
    {
      "cell_type": "markdown",
      "source": [
        "## Логистическая регрессия (LogisticRegression)"
      ],
      "metadata": {
        "id": "-yW8igtRkqp9"
      }
    },
    {
      "cell_type": "code",
      "source": [
        "logreg = LogisticRegression()\n",
        "logreg = logreg.fit(x_train, y_train)\n",
        "predicted_logreg = logreg.predict(x_test)\n",
        "print(metrics.classification_report(predicted_logreg, y_test))\n",
        "logreg.score(x_test,y_test)"
      ],
      "metadata": {
        "id": "7LZndONDTyoT",
        "colab": {
          "base_uri": "https://localhost:8080/"
        },
        "outputId": "3360dee2-aa24-41b9-ad0e-994b26441bed"
      },
      "execution_count": null,
      "outputs": [
        {
          "output_type": "stream",
          "name": "stdout",
          "text": [
            "              precision    recall  f1-score   support\n",
            "\n",
            "           1       0.94      1.00      0.97        34\n",
            "           2       1.00      0.92      0.96        24\n",
            "           3       1.00      0.91      0.95        34\n",
            "           4       0.97      1.00      0.99        39\n",
            "           5       0.97      0.95      0.96        39\n",
            "           6       1.00      1.00      1.00        30\n",
            "           7       1.00      1.00      1.00        39\n",
            "           8       0.89      0.89      0.89        28\n",
            "           9       0.97      1.00      0.98        28\n",
            "          10       0.95      1.00      0.97        35\n",
            "\n",
            "    accuracy                           0.97       330\n",
            "   macro avg       0.97      0.97      0.97       330\n",
            "weighted avg       0.97      0.97      0.97       330\n",
            "\n"
          ]
        },
        {
          "output_type": "execute_result",
          "data": {
            "text/plain": [
              "0.9696969696969697"
            ]
          },
          "metadata": {},
          "execution_count": 32
        }
      ]
    },
    {
      "cell_type": "code",
      "source": [
        "#Сохранение модели в файл\n",
        "pkl_filename_logreg = \"Pickle_RL_Model_logreg.pkl\"  \n",
        "\n",
        "with open(pkl_filename_logreg, 'wb') as file:  \n",
        "    pickle.dump(logreg, file)\n",
        "\n",
        "with open(pkl_filename_logreg, 'rb') as file:  \n",
        "    pickled_logreg_model = pickle.load(file)"
      ],
      "metadata": {
        "id": "n1JN1GcgoXtk"
      },
      "execution_count": null,
      "outputs": []
    },
    {
      "cell_type": "code",
      "source": [
        "#Вероятность\n",
        "Y_test_pred=pickled_logreg_model.predict(X_test_vector.toarray())\n",
        "for result in Y_test_pred:\n",
        "  print(f\"Вероятность для всех классов: {result}\")\n",
        "\n",
        "#Задаем порог 0.5 для классификации текста\n",
        "Y_test_pred_int=(Y_test_pred>=0.5).astype(\"int\")\n",
        "\n",
        "for result in Y_test_pred_int:\n",
        "  print(f\"Результаты классификации для каждого класса (порог 0.5): {result}\")"
      ],
      "metadata": {
        "colab": {
          "base_uri": "https://localhost:8080/"
        },
        "id": "D-MGBiBqwgXK",
        "outputId": "767faa9e-239b-46ff-d531-56b5aa99b2af"
      },
      "execution_count": null,
      "outputs": [
        {
          "output_type": "stream",
          "name": "stdout",
          "text": [
            "Вероятность для всех классов: 6\n",
            "Вероятность для всех классов: 6\n",
            "Вероятность для всех классов: 6\n",
            "Вероятность для всех классов: 10\n",
            "Вероятность для всех классов: 7\n",
            "Результаты классификации для каждого класса (порог 0.5): 1\n",
            "Результаты классификации для каждого класса (порог 0.5): 1\n",
            "Результаты классификации для каждого класса (порог 0.5): 1\n",
            "Результаты классификации для каждого класса (порог 0.5): 1\n",
            "Результаты классификации для каждого класса (порог 0.5): 1\n"
          ]
        }
      ]
    },
    {
      "cell_type": "markdown",
      "source": [
        "### Метод опорных векторов (SVM)"
      ],
      "metadata": {
        "id": "OHLaUFo3wBLM"
      }
    },
    {
      "cell_type": "code",
      "source": [
        "metodsvm = svm.SVC()\n",
        "metodsvm = metodsvm.fit(x_train, y_train)\n",
        "predicted_svm = metodsvm.predict(x_test)\n",
        "print(metrics.classification_report(predicted_svm, y_test))\n",
        "metodsvm.score(x_test, y_test)"
      ],
      "metadata": {
        "id": "tP_UthHtT1Y-",
        "colab": {
          "base_uri": "https://localhost:8080/"
        },
        "outputId": "cc8ec0c2-e32d-45d9-d844-91a27f5dc25e"
      },
      "execution_count": null,
      "outputs": [
        {
          "output_type": "stream",
          "name": "stdout",
          "text": [
            "              precision    recall  f1-score   support\n",
            "\n",
            "           1       0.94      1.00      0.97        34\n",
            "           2       1.00      0.96      0.98        23\n",
            "           3       1.00      0.91      0.95        34\n",
            "           4       0.97      1.00      0.99        39\n",
            "           5       1.00      0.93      0.96        41\n",
            "           6       1.00      1.00      1.00        30\n",
            "           7       1.00      1.00      1.00        39\n",
            "           8       0.89      0.93      0.91        27\n",
            "           9       0.97      1.00      0.98        28\n",
            "          10       0.95      1.00      0.97        35\n",
            "\n",
            "    accuracy                           0.97       330\n",
            "   macro avg       0.97      0.97      0.97       330\n",
            "weighted avg       0.97      0.97      0.97       330\n",
            "\n"
          ]
        },
        {
          "output_type": "execute_result",
          "data": {
            "text/plain": [
              "0.9727272727272728"
            ]
          },
          "metadata": {},
          "execution_count": 35
        }
      ]
    },
    {
      "cell_type": "code",
      "source": [
        "#Сохранение модели в файл\n",
        "pkl_filename_svm = \"Pickle_RL_Model_svm.pkl\"  \n",
        "\n",
        "with open(pkl_filename_svm, 'wb') as file:  \n",
        "    pickle.dump(metodsvm, file)\n",
        "\n",
        "with open(pkl_filename_svm, 'rb') as file:  \n",
        "    pickled_svm_model = pickle.load(file)"
      ],
      "metadata": {
        "id": "eK2Ia4WesHM6"
      },
      "execution_count": null,
      "outputs": []
    },
    {
      "cell_type": "code",
      "source": [
        "#Вероятность\n",
        "Y_test_pred=pickled_svm_model.predict(X_test_vector.toarray())\n",
        "for result in Y_test_pred:\n",
        "  print(f\"Определился класс: {result}\")"
      ],
      "metadata": {
        "colab": {
          "base_uri": "https://localhost:8080/"
        },
        "id": "0rJo1DdZxaJx",
        "outputId": "8276fe9b-284a-4a56-858c-3cf060eba092"
      },
      "execution_count": null,
      "outputs": [
        {
          "output_type": "stream",
          "name": "stdout",
          "text": [
            "Определился класс: 6\n",
            "Определился класс: 6\n",
            "Определился класс: 6\n",
            "Определился класс: 10\n",
            "Определился класс: 8\n"
          ]
        }
      ]
    },
    {
      "cell_type": "code",
      "source": [
        "#Адаптивный бустинг\n",
        "modelClf = AdaBoostClassifier(base_estimator=DecisionTreeClassifier(max_depth=20), n_estimators=200, random_state=42)\n",
        "\n",
        "X_train, X_valid, y_train, y_valid = train_test_split(X, y, test_size = 0.33, random_state = 42)\n",
        "\n",
        "modelClf_fit = modelClf.fit(X_train, y_train)\n",
        "modelClf.score(X_valid, y_valid)"
      ],
      "metadata": {
        "id": "l63XRUsgT9G5",
        "colab": {
          "base_uri": "https://localhost:8080/"
        },
        "outputId": "3752e574-16de-4cea-a6ce-a76b5312297e"
      },
      "execution_count": null,
      "outputs": [
        {
          "output_type": "execute_result",
          "data": {
            "text/plain": [
              "0.8939393939393939"
            ]
          },
          "metadata": {},
          "execution_count": 38
        }
      ]
    },
    {
      "cell_type": "code",
      "source": [
        "#Сохранение модели в файл\n",
        "pkl_filename_Clf_Ada = \"Pickle_RL_Model_Clf_Ada.pkl\"  \n",
        "\n",
        "with open(pkl_filename_Clf_Ada, 'wb') as file:  \n",
        "    pickle.dump(modelClf, file)\n",
        "\n",
        "with open(pkl_filename_Clf_Ada, 'rb') as file:  \n",
        "    pickled_Clf_Ada_model = pickle.load(file)"
      ],
      "metadata": {
        "id": "1ObBiE8-pxoE"
      },
      "execution_count": null,
      "outputs": []
    },
    {
      "cell_type": "code",
      "source": [
        "#Градиентный бустинг\n",
        "modelClf = GradientBoostingClassifier(max_depth=20, n_estimators=150,random_state=12, learning_rate=0.005)\n",
        "\n",
        "X_train, X_valid, y_train, y_valid = train_test_split(X, y,\n",
        "                                                      test_size=0.3, random_state=12)\n",
        "\n",
        "modelClf.fit(X_train, y_train)\n",
        "modelClf.score(X_valid, y_valid)"
      ],
      "metadata": {
        "id": "-PjOElX_T-nZ",
        "colab": {
          "base_uri": "https://localhost:8080/"
        },
        "outputId": "a480e998-21f8-40b9-d82f-6fc4370a0ba6"
      },
      "execution_count": null,
      "outputs": [
        {
          "output_type": "execute_result",
          "data": {
            "text/plain": [
              "0.7566666666666667"
            ]
          },
          "metadata": {},
          "execution_count": 40
        }
      ]
    },
    {
      "cell_type": "code",
      "source": [
        "#Сохранение модели в файл\n",
        "pkl_filename_Clf_Grad = \"Pickle_RL_Model_Clf_Grad.pkl\"  \n",
        "\n",
        "with open(pkl_filename_Clf_Grad, 'wb') as file:  \n",
        "    pickle.dump(modelClf, file)\n",
        "\n",
        "with open(pkl_filename_Clf_Grad, 'rb') as file:  \n",
        "    pickled_Clf_Grad_model = pickle.load(file)"
      ],
      "metadata": {
        "id": "Nw3f8njYp4f7"
      },
      "execution_count": null,
      "outputs": []
    },
    {
      "cell_type": "code",
      "source": [
        "x_train, x_test, y_train, y_test = train_test_split(X, y, test_size = 0.33, random_state = 42)"
      ],
      "metadata": {
        "id": "TWKuEGs5UUPs"
      },
      "execution_count": null,
      "outputs": []
    },
    {
      "cell_type": "code",
      "source": [
        "model = models.Sequential()"
      ],
      "metadata": {
        "id": "VIA2OL6fUl3s"
      },
      "execution_count": null,
      "outputs": []
    },
    {
      "cell_type": "code",
      "source": [
        "voc_len = 26678"
      ],
      "metadata": {
        "id": "6RmnnkW8EXso"
      },
      "execution_count": null,
      "outputs": []
    },
    {
      "cell_type": "code",
      "source": [
        "model.add(layers.Dense(64,activation='relu'))# ,input_shape=(voc_len,)\n",
        "model.add(layers.Dense(64, activation='relu'))\n",
        "model.add(layers.Dense(1, activation = 'sigmoid'))"
      ],
      "metadata": {
        "id": "iVTRJ5QeUoPH"
      },
      "execution_count": null,
      "outputs": []
    },
    {
      "cell_type": "code",
      "source": [
        "#model.compile(optimizer='rmsprop',loss='binary_crossentropy',metrics=['accuracy'])\n",
        "model.compile(optimizer=Adam(learning_rate=1e-3),loss='binary_crossentropy',metrics=['accuracy'])"
      ],
      "metadata": {
        "id": "WHypN3KXUpoc"
      },
      "execution_count": null,
      "outputs": []
    },
    {
      "cell_type": "code",
      "source": [
        "history=model.fit(np.array(x_train), np.array(y_train), epochs=20, verbose=0, batch_size=512,validation_data=(x_test,y_test))"
      ],
      "metadata": {
        "id": "xJtRD9E-UrJx"
      },
      "execution_count": null,
      "outputs": []
    },
    {
      "cell_type": "code",
      "source": [
        "history_dict = history.history\n",
        "history_dict.keys()\n",
        "# dict_keys(['loss', 'accuracy', 'val_loss', 'val_accuracy'])"
      ],
      "metadata": {
        "id": "kLXHiLrOUsKL",
        "colab": {
          "base_uri": "https://localhost:8080/"
        },
        "outputId": "4080c6df-7ea6-4c59-ef6d-4eaf4f235764"
      },
      "execution_count": null,
      "outputs": [
        {
          "output_type": "execute_result",
          "data": {
            "text/plain": [
              "dict_keys(['loss', 'accuracy', 'val_loss', 'val_accuracy'])"
            ]
          },
          "metadata": {},
          "execution_count": 48
        }
      ]
    },
    {
      "cell_type": "code",
      "source": [
        "#Построение графика потери на этапах проверки и обучения\n",
        "loss_values = history_dict['loss']\n",
        "val_loss_values = history_dict['val_loss']\n",
        "epochs = range(1, len(history_dict['accuracy'])+1)\n",
        "\n",
        "#Построение графика потери на этапах проверки и обучения\n",
        "loss_values = history_dict['loss']\n",
        "val_loss_values = history_dict['val_loss']\n",
        "epochs = range(1, len(history_dict['accuracy'])+1)\n",
        "\n",
        "plt.plot(epochs, loss_values, 'bo', label = 'Потери на этапе обучения')\n",
        "plt.plot(epochs, val_loss_values, 'b', label = 'Потери на этапе проверки')\n",
        "plt.title('Потери на этапах обучения и проверки')\n",
        "plt.xlabel('Эпохи')\n",
        "plt.ylabel('Потери')\n",
        "plt.legend()\n",
        "plt.show()\n",
        "\n",
        "#Построение графика точности на этапах обучения и проверки\n",
        "acc_values = history_dict['accuracy']\n",
        "val_acc_values = history_dict['val_accuracy']\n",
        "plt.plot(epochs, acc_values, 'bo', label = 'Точность на этапе обучения')\n",
        "plt.plot(epochs, val_acc_values, 'b', label = 'Точность на этапе проверки')\n",
        "plt.title('Точность на этапах обучения и проверки')\n",
        "plt.xlabel('Эпохи')\n",
        "plt.ylabel('Точность')\n",
        "plt.legend()\n",
        "plt.show()"
      ],
      "metadata": {
        "id": "Pil4dhapUtqu",
        "colab": {
          "base_uri": "https://localhost:8080/"
        },
        "outputId": "c206fbdf-7b81-46c9-9362-be03ee8c8f7e"
      },
      "execution_count": null,
      "outputs": [
        {
          "output_type": "display_data",
          "data": {
            "text/plain": [
              "<Figure size 432x288 with 1 Axes>"
            ],
            "image/png": "[encoded data removed]"
          },
          "metadata": {
            "needs_background": "light"
          }
        },
        {
          "output_type": "display_data",
          "data": {
            "text/plain": [
              "<Figure size 432x288 with 1 Axes>"
            ],
            "image/png": "[encoded data removed]"
          },
          "metadata": {
            "needs_background": "light"
          }
        }
      ]
    },
    {
      "cell_type": "code",
      "source": [
        "Y_pred=model.predict(x_test)\n",
        "#Задаем порог 0,5 для классификации текста\n",
        "Y_pred=(Y_pred>=0.5).astype(\"int\")\n",
        "print(classification_report(y_test,Y_pred))\n",
        "print(confusion_matrix(y_test,Y_pred))"
      ],
      "metadata": {
        "id": "YFAQvjYbUuwg",
        "colab": {
          "base_uri": "https://localhost:8080/"
        },
        "outputId": "83826a39-1000-4a6b-fd5f-7fdb4ec2b40d"
      },
      "execution_count": null,
      "outputs": [
        {
          "output_type": "stream",
          "name": "stdout",
          "text": [
            "11/11 [==============================] - 0s 2ms/step\n",
            "              precision    recall  f1-score   support\n",
            "\n",
            "           1       0.11      1.00      0.20        36\n",
            "           2       0.00      0.00      0.00        22\n",
            "           3       0.00      0.00      0.00        31\n",
            "           4       0.00      0.00      0.00        40\n",
            "           5       0.00      0.00      0.00        38\n",
            "           6       0.00      0.00      0.00        30\n",
            "           7       0.00      0.00      0.00        39\n",
            "           8       0.00      0.00      0.00        28\n",
            "           9       0.00      0.00      0.00        29\n",
            "          10       0.00      0.00      0.00        37\n",
            "\n",
            "    accuracy                           0.11       330\n",
            "   macro avg       0.01      0.10      0.02       330\n",
            "weighted avg       0.01      0.11      0.02       330\n",
            "\n",
            "[[36  0  0  0  0  0  0  0  0  0]\n",
            " [22  0  0  0  0  0  0  0  0  0]\n",
            " [31  0  0  0  0  0  0  0  0  0]\n",
            " [40  0  0  0  0  0  0  0  0  0]\n",
            " [38  0  0  0  0  0  0  0  0  0]\n",
            " [30  0  0  0  0  0  0  0  0  0]\n",
            " [39  0  0  0  0  0  0  0  0  0]\n",
            " [28  0  0  0  0  0  0  0  0  0]\n",
            " [29  0  0  0  0  0  0  0  0  0]\n",
            " [37  0  0  0  0  0  0  0  0  0]]\n"
          ]
        },
        {
          "output_type": "stream",
          "name": "stderr",
          "text": [
            "/usr/local/lib/python3.8/dist-packages/sklearn/metrics/_classification.py:1318: UndefinedMetricWarning: Precision and F-score are ill-defined and being set to 0.0 in labels with no predicted samples. Use `zero_division` parameter to control this behavior.\n",
            "  _warn_prf(average, modifier, msg_start, len(result))\n",
            "/usr/local/lib/python3.8/dist-packages/sklearn/metrics/_classification.py:1318: UndefinedMetricWarning: Precision and F-score are ill-defined and being set to 0.0 in labels with no predicted samples. Use `zero_division` parameter to control this behavior.\n",
            "  _warn_prf(average, modifier, msg_start, len(result))\n",
            "/usr/local/lib/python3.8/dist-packages/sklearn/metrics/_classification.py:1318: UndefinedMetricWarning: Precision and F-score are ill-defined and being set to 0.0 in labels with no predicted samples. Use `zero_division` parameter to control this behavior.\n",
            "  _warn_prf(average, modifier, msg_start, len(result))\n"
          ]
        }
      ]
    }
  ]
}